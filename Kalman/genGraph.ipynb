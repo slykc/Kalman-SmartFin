{
 "cells": [
  {
   "cell_type": "code",
   "execution_count": null,
   "id": "a2df95f7",
   "metadata": {},
   "outputs": [],
   "source": [
    "import matplotlib.pyplot as plt\n",
    "import numpy as np"
   ]
  },
  {
   "cell_type": "code",
   "execution_count": null,
   "id": "504d1e2f",
   "metadata": {},
   "outputs": [],
   "source": [
    "clean = []\n",
    "\n",
    "with open('clean_acc_x.txt') as openfileobject:\n",
    "    for line in openfileobject:\n",
    "        clean.append(float(line.strip()))"
   ]
  },
  {
   "cell_type": "code",
   "execution_count": null,
   "id": "39e6c762",
   "metadata": {},
   "outputs": [],
   "source": [
    "dirty = []\n",
    "\n",
    "with open('dirty_acc_x.txt') as openfileobject:\n",
    "    for line in openfileobject:\n",
    "        dirty.append(float(line.strip()))"
   ]
  },
  {
   "cell_type": "code",
   "execution_count": null,
   "id": "fc5ff0ec",
   "metadata": {},
   "outputs": [],
   "source": [
    "plt.plot(np.arange(len(clean)), clean, label = \"clean\")\n",
    "plt.plot(np.arange(len(clean)), dirty, label = \"raw\")\n",
    "plt.ylabel('x_acc')\n",
    "plt.legend()\n",
    "plt.show()"
   ]
  },
  {
   "cell_type": "code",
   "execution_count": null,
   "id": "f81ddb86",
   "metadata": {},
   "outputs": [],
   "source": [
    "plt.plot(np.arange(len(clean)), clean, label = \"clean\")\n",
    "plt.plot(np.arange(len(clean)), dirty, label = \"raw\")\n",
    "plt.ylabel('x_acc')\n",
    "plt.legend()\n",
    "plt.ylim([-1, 1])\n",
    "plt.show()"
   ]
  },
  {
   "cell_type": "code",
   "execution_count": null,
   "id": "44c5bff8",
   "metadata": {},
   "outputs": [],
   "source": []
  }
 ],
 "metadata": {
  "kernelspec": {
   "display_name": "Python 3",
   "language": "python",
   "name": "python3"
  },
  "language_info": {
   "codemirror_mode": {
    "name": "ipython",
    "version": 3
   },
   "file_extension": ".py",
   "mimetype": "text/x-python",
   "name": "python",
   "nbconvert_exporter": "python",
   "pygments_lexer": "ipython3",
   "version": "3.11.2"
  }
 },
 "nbformat": 4,
 "nbformat_minor": 5
}
